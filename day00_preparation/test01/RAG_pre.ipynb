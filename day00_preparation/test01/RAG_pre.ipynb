{
 "cells": [
  {
   "cell_type": "code",
   "execution_count": 5,
   "metadata": {},
   "outputs": [],
   "source": [
    "# !pip install langchain langchain_openai chromadb streamlit wikipedia\n",
    "# !pip install langchain_community"
   ]
  },
  {
   "cell_type": "code",
   "execution_count": 6,
   "metadata": {},
   "outputs": [],
   "source": [
    "import os\n",
    "from langchain_community.document_loaders import WikipediaLoader\n",
    "from langchain_text_splitters import RecursiveCharacterTextSplitter\n",
    "from langchain_openai import OpenAIEmbeddings\n",
    "from langchain_community.vectorstores import Chroma\n",
    "from langchain_openai import ChatOpenAI\n",
    "from langchain.chains import RetrievalQA\n",
    "from langchain.prompts import PromptTemplate"
   ]
  },
  {
   "cell_type": "code",
   "execution_count": null,
   "metadata": {},
   "outputs": [],
   "source": [
    "os.environ[\"OPENAI_API_KEY\"] = \"\""
   ]
  },
  {
   "cell_type": "code",
   "execution_count": null,
   "metadata": {},
   "outputs": [],
   "source": [
    "def load_docs(query):\n",
    "    loader = WikipediaLoader(query=query, load_max_docs=1)\n",
    "    documents = loader.load()\n",
    "    \n",
    "    text_splitter = RecursiveCharacterTextSplitter(\n",
    "        chunk_size=1000,\n",
    "        chunk_overlap=200\n",
    "    )\n",
    "    splits = text_splitter.split_documents(documents)\n",
    "    \n",
    "    return splits"
   ]
  },
  {
   "cell_type": "code",
   "execution_count": null,
   "metadata": {},
   "outputs": [],
   "source": [
    "def create_vectorstore(splits):\n",
    "    embeddings = OpenAIEmbeddings()\n",
    "    vectorstore = Chroma.from_documents(documents=splits, embedding=embeddings)\n",
    "    return vectorstore"
   ]
  },
  {
   "cell_type": "code",
   "execution_count": null,
   "metadata": {},
   "outputs": [],
   "source": [
    "def create_rag_chain(vectorstore):\n",
    "    llm = ChatOpenAI(model_name=\"gpt-4\", temperature=0)\n",
    "    \n",
    "    prompt_template = \"\"\"아래의 문맥을 사용하여 질문에 답하십시오.\n",
    "    만약 답을 모른다면, 모른다고 말하고 답을 지어내지 마십시오.\n",
    "    최대한 세 문장으로 답하고 가능한 한 간결하게 유지하십시오.\n",
    "    {context}\n",
    "    질문: {question}\n",
    "    유용한 답변:\"\"\"\n",
    "    \n",
    "    PROMPT = PromptTemplate(\n",
    "        template=prompt_template, input_variables=[\"context\", \"question\"]\n",
    "    )\n",
    "\n",
    "    chain_type_kwargs = {\"prompt\": PROMPT}\n",
    "    \n",
    "    qa_chain = RetrievalQA.from_chain_type(\n",
    "        llm=llm,\n",
    "        chain_type=\"stuff\",\n",
    "        retriever=vectorstore.as_retriever(),\n",
    "        chain_type_kwargs=chain_type_kwargs,\n",
    "        return_source_documents=True\n",
    "    )\n",
    "    \n",
    "    return qa_chain"
   ]
  },
  {
   "cell_type": "code",
   "execution_count": null,
   "metadata": {},
   "outputs": [],
   "source": [
    "import streamlit as st\n",
    "from rag_functions import load_docs, create_vectorstore, create_rag_chain\n",
    "\n",
    "st.title(\"RAG Q&A 시스템\")\n",
    "\n",
    "# 사용자 입력\n",
    "topic = st.text_input(\"위키피디아 주제를 입력하세요:\")\n",
    "question = st.text_input(\"해당 주제에 대해 질문하세요:\")\n",
    "\n",
    "if topic and question:\n",
    "    if st.button(\"답변 받기\"):\n",
    "        with st.spinner(\"처리 중...\"):\n",
    "            # 문서 로드 및 분할\n",
    "            splits = load_docs(topic)\n",
    "            \n",
    "            # 벡터 저장소 생성\n",
    "            vectorstore = create_vectorstore(splits)\n",
    "            \n",
    "            # RAG 체인 생성\n",
    "            qa_chain = create_rag_chain(vectorstore)\n",
    "            \n",
    "            # 질문에 대한 답변 생성\n",
    "            result = qa_chain({\"query\": question})\n",
    "            \n",
    "            st.subheader(\"답변:\")\n",
    "            st.write(result[\"result\"])\n",
    "            \n",
    "            st.subheader(\"출처:\")\n",
    "            for doc in result[\"source_documents\"]:\n",
    "                st.write(doc.page_content)\n",
    "                st.write(\"---\")\n",
    "\n",
    "st.sidebar.title(\"소개\")\n",
    "st.sidebar.info(\n",
    "    \"이 앱은 RAG(검색 증강 생성) 시스템을 시연합니다. \"\n",
    "    \"위키피디아를 지식 소스로 사용하고 OpenAI의 GPT 모델을 통해 답변을 생성합니다.\"\n",
    ")"
   ]
  }
 ],
 "metadata": {
  "kernelspec": {
   "display_name": "deeplearning",
   "language": "python",
   "name": "python3"
  },
  "language_info": {
   "codemirror_mode": {
    "name": "ipython",
    "version": 3
   },
   "file_extension": ".py",
   "mimetype": "text/x-python",
   "name": "python",
   "nbconvert_exporter": "python",
   "pygments_lexer": "ipython3",
   "version": "3.10.15"
  }
 },
 "nbformat": 4,
 "nbformat_minor": 2
}
